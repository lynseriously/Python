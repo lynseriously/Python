{
 "cells": [
  {
   "cell_type": "code",
   "execution_count": null,
   "id": "723e3db0",
   "metadata": {},
   "outputs": [],
   "source": [
    "import pandas as pd"
   ]
  },
  {
   "cell_type": "markdown",
   "id": "a269df55",
   "metadata": {},
   "source": [
    "# Import/Export Data"
   ]
  },
  {
   "cell_type": "code",
   "execution_count": null,
   "id": "1648c084",
   "metadata": {},
   "outputs": [],
   "source": [
    "df_csv = pd.read_csv('../data/my_csv.csv')\n",
    "df_txt = pd.read_table('../data/my_table.txt')\n",
    "df_excel = pd.read_excel('../data/my_excel.xlsx', \n",
    "                         header = None,\n",
    "                         parse_dates = ['col2'],\n",
    "                         index_col = ['col1'],\n",
    "                        nrows = 2)\n",
    "\n",
    "df_excel.to_excel('.xlsx', index = False)"
   ]
  },
  {
   "cell_type": "markdown",
   "id": "34d55b10",
   "metadata": {},
   "source": [
    "# Commonly Used Methods"
   ]
  },
  {
   "cell_type": "code",
   "execution_count": null,
   "id": "4a744e42",
   "metadata": {},
   "outputs": [],
   "source": [
    "#objects\n",
    "df.values\n",
    "df.index\n",
    "df.dtypes\n",
    "df.columns\n",
    "df.shape\n",
    "df.T\n",
    "\n",
    "#descriptive\n",
    "df.head(5)\n",
    "df.tail(5)\n",
    "df.info()\n",
    "df.describe()\n",
    "\n",
    "#stats\n",
    "df.mean()\n",
    "df.max()\n",
    "df.count()\n",
    "\n",
    "#unique\n",
    "df['col'].unique()\n",
    "df['col'].value_counts()\n",
    "df.drop_duplicates(['Gender', 'Transfer'], keep='last')"
   ]
  },
  {
   "cell_type": "code",
   "execution_count": null,
   "id": "d43a92c1",
   "metadata": {},
   "outputs": [],
   "source": [
    "#Replace\n",
    "df['Gender'].replace({'Female':0, 'Male':1}).head()"
   ]
  },
  {
   "cell_type": "code",
   "execution_count": null,
   "id": "a744e9ec",
   "metadata": {},
   "outputs": [],
   "source": [
    "#sort\n",
    "df.sort_values(['Weight','Height'],ascending=[True,False]).head()\n",
    "\n",
    "df.Grade = df.Grade.astype('category')\n",
    "df.Grade = df.Grade.cat.reorder_categories(['Freshman', 'Sophomore', 'Junior', 'Senior'],\n",
    "                                           ordered=True)"
   ]
  },
  {
   "cell_type": "code",
   "execution_count": null,
   "id": "76440327",
   "metadata": {},
   "outputs": [],
   "source": [
    "#apply\n",
    "df.apply(lambda x: x.mean())"
   ]
  },
  {
   "cell_type": "markdown",
   "id": "7c16a99a",
   "metadata": {},
   "source": [
    "# Indexing"
   ]
  },
  {
   "cell_type": "code",
   "execution_count": null,
   "id": "efad2f5b",
   "metadata": {},
   "outputs": [],
   "source": [
    "df['col1']\n",
    "df.col1\n",
    "df[['col1','col2']]\n",
    "df.loc[~df.Weight != 70,'col1']\n",
    "df.loc[df.Grade.isin(['Freshman', 'Senior'])]\n",
    "\n",
    "condition_1 = df.School == 'Fudan University'\n",
    "condition_1 = df.Grade == 'Senior'\n",
    "df.loc[condition_1 | condition_2]"
   ]
  },
  {
   "cell_type": "code",
   "execution_count": null,
   "id": "5db0f5c9",
   "metadata": {},
   "outputs": [],
   "source": [
    "df.query('Weight > Weight.mean()')\n",
    "df.query('Grade == [\"Junior\", \"Senior\"]')\n",
    "low, high =70, 80\n",
    "df.query('(Weight >= @low) & (Weight <= @high)')"
   ]
  },
  {
   "cell_type": "code",
   "execution_count": null,
   "id": "96a4d69a",
   "metadata": {},
   "outputs": [],
   "source": [
    "###index\n",
    "df.rename(index=lambda x:str.upper(x))\n",
    "df.reset_index()"
   ]
  },
  {
   "cell_type": "markdown",
   "id": "1d15dfb5",
   "metadata": {},
   "source": [
    "# Group"
   ]
  },
  {
   "cell_type": "code",
   "execution_count": null,
   "id": "1be5a833",
   "metadata": {},
   "outputs": [],
   "source": [
    "df.groupby(['School', 'Gender'])['Height'].mean()\n",
    "\n",
    "condition = df.Weight > df.Weight.mean()\n",
    "df.groupby(condition)['Height'].mean()"
   ]
  },
  {
   "cell_type": "code",
   "execution_count": null,
   "id": "db71138a",
   "metadata": {},
   "outputs": [],
   "source": [
    "gb = df.groupby('Gender')[['Height', 'Weight']]\n",
    "gb.agg({'Height':['mean','max'], 'Weight':'count'})\n",
    "\n",
    "gb.filter(lambda x: x.shape[0] > 100).head()\n",
    "\n",
    "def my_func(s):\n",
    "    res = 'High'\n",
    "    if s.mean() <= df[s.name].mean():\n",
    "        res = 'Low'\n",
    "    return res\n",
    "gb.agg(my_func)\n",
    "\n",
    "def BMI(x):\n",
    "    Height = x['Height']/100\n",
    "    Weight = x['Weight']\n",
    "    BMI_value = Weight/Height**2\n",
    "    return BMI_value.mean()\n",
    "gb.apply(BMI)"
   ]
  },
  {
   "cell_type": "markdown",
   "id": "4c824c24",
   "metadata": {},
   "source": [
    "# Transform"
   ]
  },
  {
   "cell_type": "code",
   "execution_count": null,
   "id": "60594df8",
   "metadata": {},
   "outputs": [],
   "source": [
    "df_melted = df.melt(id_vars = ['Class', 'Name'],\n",
    "                    value_vars = ['Chinese', 'Math'],\n",
    "                    var_name = 'Subject',\n",
    "                    value_name = 'Grade')\n",
    "\n",
    "df.unstack(0)"
   ]
  },
  {
   "cell_type": "markdown",
   "id": "2e68db32",
   "metadata": {},
   "source": [
    "# Connect two dataframes"
   ]
  },
  {
   "cell_type": "code",
   "execution_count": null,
   "id": "7a396339",
   "metadata": {},
   "outputs": [],
   "source": [
    "df1.merge(df2, on = 'col1', how = 'left')\n",
    "df1.join(df2, how = 'left') #merge on index\n",
    "pd.concat([df1,df2], axis=0 ) #1 means horizontal\n",
    "\n",
    "df1.append(s,ignore_index = True)\n",
    "df1.assign(Grade = [1,2,3])\n",
    "df1['Grade'] = [1,2,3]"
   ]
  },
  {
   "cell_type": "markdown",
   "id": "26ba3a5b",
   "metadata": {},
   "source": [
    "# Handle Missing data"
   ]
  },
  {
   "cell_type": "code",
   "execution_count": null,
   "id": "c87589b6",
   "metadata": {},
   "outputs": [],
   "source": [
    "#find na\n",
    "df.isna()\n",
    "subset = df['col1','col2']\n",
    "df[sub_set.isna.any(1)].head()\n",
    "#delete na\n",
    "df.dropna()\n",
    "#fill na\n",
    "df.fillna(method = 'ffill')\n",
    "df.fillna(df.mean())\n",
    "df.interpolate()\n",
    "df.interpolate(method = 'index')"
   ]
  },
  {
   "cell_type": "markdown",
   "id": "8bb55f7c",
   "metadata": {},
   "source": [
    "# String Str\n",
    "https://docs.python.org/3/library/re.html"
   ]
  },
  {
   "cell_type": "code",
   "execution_count": null,
   "id": "f542f56c",
   "metadata": {},
   "outputs": [],
   "source": [
    "df['col'].astype('string')\n",
    "df['col'].str.split('[abc]')\n",
    "df['col'].str.join('-')\n",
    "df['col'].str.contains(',')\n",
    "df['col'].str.find('apple')\n",
    "df['col'].str.replace(',','',regex=True)\n",
    "pat = '(?P<市名>\\w+市)(?P<区名>\\w+区)(?P<路名>\\w+路)(?P<编号>\\d+号)'\n",
    "\n",
    "df.str.extract(pat)\n",
    "df.str.upper()\n",
    "df.str.title()\n",
    "df.str.capitalize()\n",
    "df.str.swapcase()\n",
    "df.str.len()\n",
    "\n",
    "df.str.strip()\n",
    "df.str.pad(5,'left','*')\n",
    "df.str.zfill(6)"
   ]
  },
  {
   "cell_type": "markdown",
   "id": "7c80b4a3",
   "metadata": {},
   "source": [
    "# Method chaining"
   ]
  },
  {
   "cell_type": "code",
   "execution_count": null,
   "id": "13d24b13",
   "metadata": {},
   "outputs": [],
   "source": [
    "def read(fp):\n",
    "    df = (pd.read_csv(fp)\n",
    "            .rename(columns=str.lower)\n",
    "            .drop('unnamed: 36', axis=1)\n",
    "            .pipe(extract_city_name)\n",
    "            .pipe(time_to_datetime, ['dep_time', 'arr_time', 'crs_arr_time', 'crs_dep_time'])\n",
    "            .assign(fl_date=lambda x: pd.to_datetime(x['fl_date']),\n",
    "                    dest=lambda x: pd.Categorical(x['dest']),\n",
    "                    origin=lambda x: pd.Categorical(x['origin']),\n",
    "                    tail_num=lambda x: pd.Categorical(x['tail_num']),\n",
    "                    unique_carrier=lambda x: pd.Categorical(x['unique_carrier']),\n",
    "                    cancellation_code=lambda x: pd.Categorical(x['cancellation_code'])))\n",
    "    return df\n",
    "\n",
    "def extract_city_name(df):\n",
    "    '''\n",
    "    Chicago, IL -> Chicago for origin_city_name and dest_city_name\n",
    "    '''\n",
    "    cols = ['origin_city_name', 'dest_city_name']\n",
    "    city = df[cols].apply(lambda x: x.str.extract(\"(.*), \\w{2}\", expand=False))\n",
    "    df = df.copy()\n",
    "    df[['origin_city_name', 'dest_city_name']] = city\n",
    "    return df\n",
    "\n",
    "def time_to_datetime(df, columns):\n",
    "    '''\n",
    "    Combine all time items into datetimes.\n",
    "\n",
    "    2014-01-01,0914 -> 2014-01-01 09:14:00\n",
    "    '''\n",
    "    df = df.copy()\n",
    "    def converter(col):\n",
    "        timepart = (col.astype(str)\n",
    "                       .str.replace('\\.0$', '')  # NaNs force float dtype\n",
    "                       .str.pad(4, fillchar='0'))\n",
    "        return pd.to_datetime(df['fl_date'] + ' ' +\n",
    "                               timepart.str.slice(0, 2) + ':' +\n",
    "                               timepart.str.slice(2, 4),\n",
    "                               errors='coerce')\n",
    "    df[columns] = df[columns].apply(converter)\n",
    "    return df"
   ]
  },
  {
   "cell_type": "code",
   "execution_count": null,
   "id": "0e410b77",
   "metadata": {},
   "outputs": [],
   "source": [
    "(df.dropna(subset=['dep_time', 'unique_carrier'])\n",
    "   .loc[df['unique_carrier']\n",
    "       .isin(df['unique_carrier'].value_counts().index[:5])]\n",
    "   .set_index('dep_time')\n",
    "   # TimeGrouper to resample & groupby at once\n",
    "   .groupby(['unique_carrier', pd.TimeGrouper(\"H\")])\n",
    "   .fl_num.count()\n",
    "   .unstack(0)\n",
    "   .fillna(0)\n",
    "   .rolling(24)\n",
    "   .sum()\n",
    "   .rename_axis(\"Flights per Day\", axis=1)\n",
    "   .plot()\n",
    ")\n",
    "sns.despine()"
   ]
  },
  {
   "cell_type": "code",
   "execution_count": null,
   "id": "02c1a3ff",
   "metadata": {},
   "outputs": [],
   "source": [
    "plt.figure(figsize=(15, 5))\n",
    "(df[['fl_date', 'tail_num', 'dep_time', 'dep_delay']]\n",
    "    .dropna()\n",
    "    .assign(hour=lambda x: x.dep_time.dt.hour)\n",
    "    .query('5 < dep_delay < 600')\n",
    "    .pipe((sns.boxplot, 'data'), 'hour', 'dep_delay'))\n",
    "sns.despine()"
   ]
  },
  {
   "cell_type": "code",
   "execution_count": null,
   "id": "028e0bd3",
   "metadata": {},
   "outputs": [],
   "source": [
    "def mode(x):\n",
    "    '''\n",
    "    Arbitrarily break ties.\n",
    "    '''\n",
    "    return x.value_counts().index[0]\n",
    "\n",
    "aggfuncs = {'tmpf': 'mean', 'relh': 'mean',\n",
    "            'sped': 'mean', 'mslp': 'mean',\n",
    "            'p01i': 'mean', 'vsby': 'mean',\n",
    "            'gust_mph': 'mean', 'skyc1': mode,\n",
    "            'skyc2': mode, 'skyc3': mode}\n",
    "# TimeGrouper works on a DatetimeIndex, so we move `station` to the\n",
    "# columns and then groupby it as well.\n",
    "daily = (weather.reset_index(level=\"station\")\n",
    "                .groupby([pd.TimeGrouper('1d'), \"station\"])\n",
    "                .agg(aggfuncs))\n",
    "\n",
    "daily.head()"
   ]
  }
 ],
 "metadata": {
  "kernelspec": {
   "display_name": "Python 3",
   "language": "python",
   "name": "python3"
  },
  "language_info": {
   "codemirror_mode": {
    "name": "ipython",
    "version": 3
   },
   "file_extension": ".py",
   "mimetype": "text/x-python",
   "name": "python",
   "nbconvert_exporter": "python",
   "pygments_lexer": "ipython3",
   "version": "3.8.5"
  }
 },
 "nbformat": 4,
 "nbformat_minor": 5
}
