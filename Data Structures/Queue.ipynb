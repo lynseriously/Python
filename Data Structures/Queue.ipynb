class Queue:
    def __init__(self):
        self.queue = list()
        
    def add(self, data):
        if data not in self.queue:
            self.queue.insert(0, data)
            return True
        return False
    
    def size(self):
        return len(self.queue)
    
    def remove(self):
        if len(self.queue) > 0:
            return self.queue.pop()
        return 'No Element'
    
    def traverse(self):
        return self.queue
    
q = Queue()
q.add('Mon')
q.add('Tue')
q.add('Wed')
q.add('Thu')
q.remove()
q.traverse()
