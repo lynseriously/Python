{
 "cells": [
  {
   "cell_type": "markdown",
   "metadata": {},
   "source": [
    "# Linked List"
   ]
  },
  {
   "cell_type": "code",
   "execution_count": 8,
   "metadata": {},
   "outputs": [
    {
     "name": "stdout",
     "output_type": "stream",
     "text": [
      "1\n",
      "2\n",
      "3\n"
     ]
    }
   ],
   "source": [
    "# Node class\n",
    "class Node:\n",
    "    # Function to initialize the node object\n",
    "    def __init__(self, data):\n",
    "        self.data = data # Assign data\n",
    "        self.next = None # Initialize next as null\n",
    "        \n",
    "# Linked List Class\n",
    "class LinkedList:\n",
    "    # Function to initialize the Linked List object\n",
    "    def __init__(self):\n",
    "        self.head = None\n",
    "    \n",
    "    # This function prints contents of linked list starting from head\n",
    "    def printList(self):\n",
    "        temp = self.head\n",
    "        \n",
    "        while temp:\n",
    "            print(temp.data)\n",
    "            temp = temp.next\n",
    "        \n",
    "llist = LinkedList()\n",
    "llist.head = Node(1)\n",
    "second = Node(2)\n",
    "third = Node(3)\n",
    "\n",
    "'''\n",
    "Three nodes have been created.\n",
    "We have references to these three blocks as head,\n",
    "second and third\n",
    "\n",
    "llist.head     second             third\n",
    "    |             |                 |\n",
    "    |             |                 |\n",
    "+----+------+     +----+------+     +----+------+\n",
    "| 1 | None |     | 2 | None |     | 3 | None |\n",
    "+----+------+     +----+------+     +----+------+\n",
    "'''\n",
    "\n",
    "llist.head.next = second\n",
    "'''\n",
    "Now next of first Node refers to second. So they\n",
    "both are linked.\n",
    "\n",
    "llist.head     second             third\n",
    "    |             |                 |\n",
    "    |             |                 |\n",
    "+----+------+     +----+------+     +----+------+\n",
    "| 1 | o-------->| 2 | null |     | 3 | null |\n",
    "+----+------+     +----+------+     +----+------+\n",
    "'''\n",
    "\n",
    "second.next = third; # Link second node with the third node\n",
    "\n",
    "'''\n",
    "Now next of second Node refers to third. So all three\n",
    "nodes are linked.\n",
    "\n",
    "llist.head     second             third\n",
    "    |             |                 |\n",
    "    |             |                 |\n",
    "+----+------+     +----+------+     +----+------+\n",
    "| 1 | o-------->| 2 | o-------->| 3 | null |\n",
    "+----+------+     +----+------+     +----+------+\n",
    "'''\n",
    "llist.printList()"
   ]
  }
 ],
 "metadata": {
  "kernelspec": {
   "display_name": "Python 3",
   "language": "python",
   "name": "python3"
  },
  "language_info": {
   "codemirror_mode": {
    "name": "ipython",
    "version": 3
   },
   "file_extension": ".py",
   "mimetype": "text/x-python",
   "name": "python",
   "nbconvert_exporter": "python",
   "pygments_lexer": "ipython3",
   "version": "3.8.5"
  }
 },
 "nbformat": 4,
 "nbformat_minor": 4
}
