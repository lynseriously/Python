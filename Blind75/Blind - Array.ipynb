{
 "cells": [
  {
   "cell_type": "markdown",
   "id": "6289ddee",
   "metadata": {},
   "source": [
    "# 2 sum\n",
    "Given an array of integers nums and an integer target, return indices of the two numbers such that they add up to target\n",
    "\n",
    "Input: nums = [2,7,11,15], target = 9\n",
    "Output: [0,1]\n",
    "Explanation: Because nums[0] + nums[1] == 9, we return [0, 1]."
   ]
  },
  {
   "cell_type": "code",
   "execution_count": 3,
   "id": "6c203f3d",
   "metadata": {},
   "outputs": [
    {
     "data": {
      "text/plain": [
       "[2, 1]"
      ]
     },
     "execution_count": 3,
     "metadata": {},
     "output_type": "execute_result"
    }
   ],
   "source": [
    "nums = [2,7,11,15]\n",
    "\n",
    "target = 18\n",
    "dic = {}\n",
    "output = []\n",
    "\n",
    "for i, num in enumerate(nums):\n",
    "    diff = target - num\n",
    "    \n",
    "    if diff in dic:\n",
    "        output.append(i)\n",
    "        output.append(dic[diff])\n",
    "    else:\n",
    "        dic[num] = i\n",
    "output"
   ]
  },
  {
   "cell_type": "markdown",
   "id": "430e249c",
   "metadata": {},
   "source": [
    "# Best Time to Buy and Sell Stock\n",
    "\n",
    "You are given an array prices where prices[i] is the price of a given stock on the ith day.\n",
    "\n",
    "You want to maximize your profit by choosing a single day to buy one stock and choosing a different day in the future to sell that stock.\n",
    "\n",
    "Input: prices = [7,1,5,3,6,4]\n",
    "Output: 5\n",
    "Explanation: Buy on day 2 (price = 1) and sell on day 5 (price = 6), profit = 6-1 = 5.\n",
    "Note that buying on day 2 and selling on day 1 is not allowed because you must buy before you sell."
   ]
  },
  {
   "cell_type": "code",
   "execution_count": 7,
   "id": "fa6ab53a",
   "metadata": {},
   "outputs": [
    {
     "data": {
      "text/plain": [
       "5"
      ]
     },
     "execution_count": 7,
     "metadata": {},
     "output_type": "execute_result"
    }
   ],
   "source": [
    "prices = [7,1,5,3,6,4]\n",
    "\n",
    "left = 0\n",
    "right = 1\n",
    "profit = 0\n",
    "\n",
    "while right < len(prices):\n",
    "    if prices[right] > prices[left]:\n",
    "        profit = max(profit, prices[right] - prices[left])\n",
    "        right = right + 1\n",
    "    else:\n",
    "        left = right\n",
    "        right = right + 1\n",
    "profit"
   ]
  },
  {
   "cell_type": "markdown",
   "id": "237aaeba",
   "metadata": {},
   "source": [
    "# Contains Duplicate\n",
    "\n",
    "Given an integer array nums, return true if any value appears at least twice in the array, and return false if every element is distinct.\n",
    "\n",
    "Input: nums = [1,2,3,1]\n",
    "Output: true"
   ]
  },
  {
   "cell_type": "code",
   "execution_count": 86,
   "id": "90974633",
   "metadata": {},
   "outputs": [
    {
     "name": "stdout",
     "output_type": "stream",
     "text": [
      "True\n"
     ]
    }
   ],
   "source": [
    "nums = [1,2,3,1]\n",
    "\n",
    "dic = {}\n",
    "outcome = False\n",
    "for i, num in enumerate(nums):\n",
    "    if num in dic:\n",
    "        outcome = True\n",
    "        break\n",
    "    else:\n",
    "        dic[num] = 1\n",
    "print(outcome)"
   ]
  },
  {
   "cell_type": "markdown",
   "id": "38ae8ff2",
   "metadata": {},
   "source": [
    "# Product of Array Except Self\n",
    "\n",
    "Given an integer array nums, return an array answer such that answer[i] is equal to the product of all the elements of nums except nums[i].\n",
    "\n",
    "The product of any prefix or suffix of nums is guaranteed to fit in a 32-bit integer.\n",
    "\n",
    "You must write an algorithm that runs in O(n) time and without using the division operation.\n",
    "\n",
    "Input: nums = [1,2,3,4]\n",
    "Output: [24,12,8,6]"
   ]
  },
  {
   "cell_type": "code",
   "execution_count": 85,
   "id": "2985e379",
   "metadata": {},
   "outputs": [
    {
     "data": {
      "text/plain": [
       "[24, 12, 8, 6]"
      ]
     },
     "execution_count": 85,
     "metadata": {},
     "output_type": "execute_result"
    }
   ],
   "source": [
    "nums = [1,2,3,4]\n",
    "output = []\n",
    "\n",
    "product_to_left = [1]\n",
    "product = 1\n",
    "\n",
    "for i in range(len(nums)-1):\n",
    "    product_to_left.append(product)\n",
    "    product = product * nums[i+1]\n",
    "    \n",
    "product_to_left\n",
    "\n",
    "product_to_right = [1]\n",
    "product = 1\n",
    "\n",
    "for i in reversed(range(len(nums)-1)):\n",
    "    product = product * nums[i+1]\n",
    "    product_to_right.append(product)\n",
    "    \n",
    "product_to_right = list(reversed(product_to_right))\n",
    "product_to_right\n",
    "\n",
    "for i in range(len(nums)):\n",
    "    output.append(product_to_left[i]*product_to_right[i])\n",
    "output"
   ]
  },
  {
   "cell_type": "markdown",
   "id": "4a759503",
   "metadata": {},
   "source": [
    "# Maximum Subarray\n",
    "\n",
    "Given an integer array nums, find the \n",
    "subarray with the largest sum, and return its sum.\n",
    "\n",
    "Input: nums = [-2,1,-3,4,-1,2,1,-5,4]\n",
    "Output: 6\n",
    "Explanation: The subarray [4,-1,2,1] has the largest sum 6."
   ]
  },
  {
   "cell_type": "code",
   "execution_count": 84,
   "id": "a05cd6dc",
   "metadata": {},
   "outputs": [
    {
     "data": {
      "text/plain": [
       "6"
      ]
     },
     "execution_count": 84,
     "metadata": {},
     "output_type": "execute_result"
    }
   ],
   "source": [
    "nums = [-2,1,-3,4,-1,2,1,-5,4]\n",
    "\n",
    "currentsum = 0\n",
    "maxsum = -10 **100\n",
    "\n",
    "for num in nums:\n",
    "    currentsum = max(num, currentsum + num)\n",
    "    maxsum = max(maxsum, currentsum)\n",
    "maxsum"
   ]
  },
  {
   "cell_type": "markdown",
   "id": "284fa125",
   "metadata": {},
   "source": [
    "# Maximum Product Subarray\n",
    "\n",
    "Given an integer array nums, find a \n",
    "subarray that has the largest product, and return the product.\n",
    "\n",
    "The test cases are generated so that the answer will fit in a 32-bit integer.\n",
    "\n",
    "Input: nums = [2,3,-2,4]\n",
    "Output: 6\n",
    "Explanation: [2,3] has the largest product 6."
   ]
  },
  {
   "cell_type": "code",
   "execution_count": 83,
   "id": "98067ffb",
   "metadata": {},
   "outputs": [
    {
     "data": {
      "text/plain": [
       "12"
      ]
     },
     "execution_count": 83,
     "metadata": {},
     "output_type": "execute_result"
    }
   ],
   "source": [
    "nums = [2,3,-2,4,3]\n",
    "\n",
    "currentproduct = 1\n",
    "negativeproduct = 1\n",
    "maxproduct = -10 ** 100\n",
    "\n",
    "for num in nums:\n",
    "    temp = currentproduct * num\n",
    "    currentproduct = max(currentproduct * num, num, negativeproduct * num)\n",
    "    negativeproduct = min(temp, num, negativeproduct * num)\n",
    "    maxproduct = max(maxproduct, currentproduct)\n",
    "    \n",
    "maxproduct"
   ]
  },
  {
   "cell_type": "markdown",
   "id": "79448002",
   "metadata": {},
   "source": [
    "# Find Minimum in Rotated Sorted Array\n",
    "\n",
    "Suppose an array of length n sorted in ascending order is rotated between 1 and n times. For example, the array nums = [0,1,2,4,5,6,7] might become:\n",
    "\n",
    "[4,5,6,7,0,1,2] if it was rotated 4 times.\n",
    "[0,1,2,4,5,6,7] if it was rotated 7 times.\n",
    "Notice that rotating an array [a[0], a[1], a[2], ..., a[n-1]] 1 time results in the array [a[n-1], a[0], a[1], a[2], ..., a[n-2]].\n",
    "\n",
    "Given the sorted rotated array nums of unique elements, return the minimum element of this array.\n",
    "\n",
    "You must write an algorithm that runs in O(log n) time.\n",
    "\n",
    "\n",
    "Input: nums = [3,4,5,1,2]\n",
    "Output: 1\n",
    "Explanation: The original array was [1,2,3,4,5] rotated 3 times."
   ]
  },
  {
   "cell_type": "code",
   "execution_count": 82,
   "id": "61e36a53",
   "metadata": {},
   "outputs": [
    {
     "name": "stdout",
     "output_type": "stream",
     "text": [
      "3 5\n",
      "3 4\n",
      "3 3\n"
     ]
    },
    {
     "data": {
      "text/plain": [
       "1"
      ]
     },
     "execution_count": 82,
     "metadata": {},
     "output_type": "execute_result"
    }
   ],
   "source": [
    "nums = [4,5,6,1,2,3]\n",
    "\n",
    "left = 0\n",
    "right = len(nums)-1\n",
    "\n",
    "while left < right:\n",
    "    mid = (left + right)//2\n",
    "    \n",
    "    if nums[0] < nums[mid]:\n",
    "        left = mid + 1 # min should be in the right side of mid\n",
    "    else:\n",
    "        right = mid  # min should be in the left side of mid\n",
    "        \n",
    "    print(left, right)\n",
    "\n",
    "nums[left]"
   ]
  },
  {
   "cell_type": "markdown",
   "id": "9f3b9dbf",
   "metadata": {},
   "source": [
    "# Search in Rotated Sorted Array\n",
    "\n",
    "There is an integer array nums sorted in ascending order (with distinct values).\n",
    "\n",
    "Prior to being passed to your function, nums is possibly rotated at an unknown pivot index k (1 <= k < nums.length) such that the resulting array is [nums[k], nums[k+1], ..., nums[n-1], nums[0], nums[1], ..., nums[k-1]] (0-indexed). For example, [0,1,2,4,5,6,7] might be rotated at pivot index 3 and become [4,5,6,7,0,1,2].\n",
    "\n",
    "Given the array nums after the possible rotation and an integer target, return the index of target if it is in nums, or -1 if it is not in nums.\n",
    "\n",
    "You must write an algorithm with O(log n) runtime complexity.\n",
    "\n",
    "Input: nums = [4,5,6,7,0,1,2], target = 0\n",
    "Output: 4"
   ]
  },
  {
   "cell_type": "code",
   "execution_count": 81,
   "id": "f96aec5c",
   "metadata": {},
   "outputs": [
    {
     "name": "stdout",
     "output_type": "stream",
     "text": [
      "6\n"
     ]
    }
   ],
   "source": [
    "nums = [3,4,5,6,7,0,1]\n",
    "target = 1\n",
    "\n",
    "left = 0\n",
    "right = len(nums)-1\n",
    "\n",
    "while left <= right:\n",
    "    mid = (left + right) // 2\n",
    "    if nums[mid] == target:\n",
    "        print(mid)\n",
    "        break\n",
    "    \n",
    "    if nums[left] <= nums[mid]: #inflection point will be to the right\n",
    "        if nums[left] <= target <= nums[mid]:\n",
    "            right = mid -1\n",
    "        else:\n",
    "            left = mid +1\n",
    "   \n",
    "    else: #nums[mid] to nums[right] ascending\n",
    "        if nums[mid] <= target <= nums[right]:\n",
    "            left = mid + 1\n",
    "        else:\n",
    "            right = mid - 1\n",
    "        "
   ]
  },
  {
   "cell_type": "markdown",
   "id": "4f59fdd9",
   "metadata": {},
   "source": [
    "# 3 sum\n",
    "\n",
    "Given an integer array nums, return all the triplets [nums[i], nums[j], nums[k]] such that i != j, i != k, and j != k, and nums[i] + nums[j] + nums[k] == 0.\n",
    "\n",
    "Notice that the solution set must not contain duplicate triplets.\n",
    "\n",
    " \n",
    "Input: nums = [-1,0,1,2,-1,-4]\n",
    "Output: [[-1,-1,2],[-1,0,1]]\n",
    "Explanation: \n",
    "nums[0] + nums[1] + nums[2] = (-1) + 0 + 1 = 0.\n",
    "nums[1] + nums[2] + nums[4] = 0 + 1 + (-1) = 0.\n",
    "nums[0] + nums[3] + nums[4] = (-1) + 2 + (-1) = 0.\n",
    "The distinct triplets are [-1,0,1] and [-1,-1,2].\n",
    "Notice that the order of the output and the order of the triplets does not matter."
   ]
  },
  {
   "cell_type": "code",
   "execution_count": 80,
   "id": "46c728fc",
   "metadata": {},
   "outputs": [
    {
     "data": {
      "text/plain": [
       "[(-1, 0, 1), (-1, -1, 2)]"
      ]
     },
     "execution_count": 80,
     "metadata": {},
     "output_type": "execute_result"
    }
   ],
   "source": [
    "nums = [-1,0,1,2,-1,-4]\n",
    "nums = sorted(nums)\n",
    "output = []\n",
    "s = set()\n",
    "for i in range(len(nums)):\n",
    "    l = i + 1\n",
    "    r = len(nums)-1\n",
    "    \n",
    "    while l < r:\n",
    "        add = nums[i] + nums[l] + nums[r]\n",
    "        \n",
    "        if add < 0:\n",
    "            l = l + 1\n",
    "        elif add > 0:\n",
    "            r = r - 1\n",
    "        else:\n",
    "            s.add((nums[i], nums[l], nums[r]))\n",
    "            l = l + 1\n",
    "            r = r - 1\n",
    "output = list(s)\n",
    "output"
   ]
  },
  {
   "attachments": {
    "image.png": {
     "image/png": "[encoded data removed]"
    }
   },
   "cell_type": "markdown",
   "id": "69396953",
   "metadata": {},
   "source": [
    "# Container With Most Water\n",
    "\n",
    "You are given an integer array height of length n. There are n vertical lines drawn such that the two endpoints of the ith line are (i, 0) and (i, height[i]).\n",
    "\n",
    "Find two lines that together with the x-axis form a container, such that the container contains the most water.\n",
    "\n",
    "Return the maximum amount of water a container can store.\n",
    "\n",
    "Notice that you may not slant the container.\n",
    "\n",
    "![image.png](attachment:image.png)\n",
    "\n",
    "Input: height = [1,8,6,2,5,4,8,3,7]\n",
    "Output: 49\n",
    "Explanation: The above vertical lines are represented by array [1,8,6,2,5,4,8,3,7]. In this case, the max area of water (blue section) the container can contain is 49"
   ]
  },
  {
   "cell_type": "code",
   "execution_count": 79,
   "id": "f5e591bc",
   "metadata": {},
   "outputs": [
    {
     "data": {
      "text/plain": [
       "49"
      ]
     },
     "execution_count": 79,
     "metadata": {},
     "output_type": "execute_result"
    }
   ],
   "source": [
    "height = [1,8,6,2,5,4,8,3,7]\n",
    "area = 0\n",
    "\n",
    "left = 0\n",
    "right = len(height)-1\n",
    "bestarea = 0\n",
    "\n",
    "while left< right:\n",
    "    if height[left] <= height[right]:\n",
    "        area = height[left] * (right - left)\n",
    "        left = left + 1\n",
    "    else:\n",
    "        area = height[right] * (right - left)\n",
    "        right = right - 1\n",
    "    bestarea = max(bestarea, area)\n",
    "\n",
    "bestarea"
   ]
  }
 ],
 "metadata": {
  "kernelspec": {
   "display_name": "Python 3",
   "language": "python",
   "name": "python3"
  },
  "language_info": {
   "codemirror_mode": {
    "name": "ipython",
    "version": 3
   },
   "file_extension": ".py",
   "mimetype": "text/x-python",
   "name": "python",
   "nbconvert_exporter": "python",
   "pygments_lexer": "ipython3",
   "version": "3.8.5"
  }
 },
 "nbformat": 4,
 "nbformat_minor": 5
}
