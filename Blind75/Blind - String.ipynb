{
 "cells": [
  {
   "cell_type": "markdown",
   "id": "e82d7f8f",
   "metadata": {},
   "source": [
    "# Longest Substring Without Repeating Characters\n",
    "\n",
    "Given a string s, find the length of the longest \n",
    "substring without repeating characters.\n",
    "\n",
    "Input: s = \"abcabcbb\"\n",
    "Output: 3\n",
    "Explanation: The answer is \"abc\", with the length of 3."
   ]
  },
  {
   "cell_type": "code",
   "execution_count": 30,
   "id": "5560a130",
   "metadata": {},
   "outputs": [
    {
     "name": "stdout",
     "output_type": "stream",
     "text": [
      "0 1 {'a': 0}\n",
      "0 2 {'a': 0, 'f': 1}\n",
      "0 3 {'a': 0, 'f': 1, 'b': 2}\n",
      "0 4 {'a': 0, 'f': 1, 'b': 2, 'c': 3}\n",
      "1 4 {'a': 4, 'f': 1, 'b': 2, 'c': 3}\n",
      "3 4 {'a': 4, 'f': 1, 'b': 5, 'c': 3}\n",
      "4 4 {'a': 4, 'f': 1, 'b': 5, 'c': 6}\n",
      "6 4 {'a': 4, 'f': 1, 'b': 7, 'c': 6}\n",
      "6 4 {'a': 4, 'f': 1, 'b': 7, 'c': 6, 'd': 8}\n",
      "6 4 {'a': 4, 'f': 1, 'b': 7, 'c': 6, 'd': 8, 'e': 9}\n",
      "6 5 {'a': 4, 'f': 10, 'b': 7, 'c': 6, 'd': 8, 'e': 9}\n"
     ]
    },
    {
     "data": {
      "text/plain": [
       "5"
      ]
     },
     "execution_count": 30,
     "metadata": {},
     "output_type": "execute_result"
    }
   ],
   "source": [
    "s = \"afbcabcbdef\"\n",
    "\n",
    "dic = {}\n",
    "maxlen = 0\n",
    "start = 0\n",
    "\n",
    "for i in range(len(s)):\n",
    "    \n",
    "    if s[i] in dic:\n",
    "        start = max(start, dic[s[i]] + 1)\n",
    "        \n",
    "    maxlen = max(maxlen, i - start + 1)\n",
    "    \n",
    "    dic[s[i]] = i # store index of letter in dictionary\n",
    "\n",
    "    print(start, maxlen, dic)\n",
    "maxlen       "
   ]
  },
  {
   "cell_type": "markdown",
   "id": "1fb79180",
   "metadata": {},
   "source": [
    "# Longest Repeating Character Replacement\n",
    "\n",
    "You are given a string s and an integer k. You can choose any character of the string and change it to any other uppercase English character. You can perform this operation at most k times.\n",
    "\n",
    "Return the length of the longest substring containing the same letter you can get after performing the above operations.\n",
    "\n",
    "Input: s = \"ABAB\", k = 2\n",
    "Output: 4\n",
    "Explanation: Replace the two 'A's with two 'B's or vice versa."
   ]
  },
  {
   "cell_type": "code",
   "execution_count": 79,
   "id": "45c084ac",
   "metadata": {},
   "outputs": [
    {
     "data": {
      "text/plain": [
       "4"
      ]
     },
     "execution_count": 79,
     "metadata": {},
     "output_type": "execute_result"
    }
   ],
   "source": [
    "s = 'ABAB'\n",
    "k = 2\n",
    "\n",
    "left = 0\n",
    "maxlen = 0\n",
    "maxcount = 0\n",
    "dic = {}\n",
    "\n",
    "for right in range(len(s)):\n",
    "    \n",
    "    dic[s[right]] = 1 + dic.get(s[right],0)\n",
    "    maxcount = max(maxcount, dic[s[right]]) \n",
    "    \n",
    "    while right - left + 1 > maxcount + k:\n",
    "        dic[s[left]] -= 1\n",
    "        left = left+1\n",
    "    \n",
    "    maxlen = max(maxlen, right - left + 1)\n",
    "\n",
    "maxlen"
   ]
  },
  {
   "cell_type": "markdown",
   "id": "a219c0de",
   "metadata": {},
   "source": [
    "# Minimum Window Substring\n",
    "\n",
    "Given two strings s and t of lengths m and n respectively, return the minimum window \n",
    "substring of s such that every character in t (including duplicates) is included in the window. If there is no such substring, return the empty string \"\".\n",
    "\n",
    "The testcases will be generated such that the answer is unique.\n",
    "\n",
    "Input: s = \"ADOBECODEBANC\", t = \"ABC\"\n",
    "Output: \"BANC\"\n",
    "Explanation: The minimum window substring \"BANC\" includes 'A', 'B', and 'C' from string t."
   ]
  },
  {
   "cell_type": "code",
   "execution_count": 67,
   "id": "1dde1db8",
   "metadata": {},
   "outputs": [
    {
     "name": "stdout",
     "output_type": "stream",
     "text": [
      "0\n",
      "0\n",
      "0\n",
      "0\n",
      "0\n",
      "0\n",
      "0\n",
      "4\n",
      "4\n",
      "4\n",
      "4\n",
      "6\n",
      "7\n",
      "7\n",
      "8\n",
      "8\n"
     ]
    },
    {
     "data": {
      "text/plain": [
       "'BEACB'"
      ]
     },
     "execution_count": 67,
     "metadata": {},
     "output_type": "execute_result"
    }
   ],
   "source": [
    "import collections\n",
    "\n",
    "s = \"ADOBEACBODEBANCA\"\n",
    "t = 'ABBC'\n",
    "\n",
    "countT, window= {}, {}\n",
    "\n",
    "for c in t:\n",
    "    countT[c] = 1+ countT.get(c, 0)\n",
    "\n",
    "have, need = 0, len(countT)\n",
    "\n",
    "res, resLen = [-1,-1] , float('infinity')\n",
    "\n",
    "l = 0\n",
    "for r in range(len(s)):\n",
    "    c = s[r]\n",
    "    window[c] = 1 + window.get(c, 0)\n",
    "    \n",
    "    if c in countT and window[c] == countT[c]:\n",
    "        have += 1\n",
    "    \n",
    "    while have == need:\n",
    "        #update the result\n",
    "        if (r - l + 1) < resLen:\n",
    "            res = [l, r]\n",
    "            resLen = (r - l + 1)\n",
    "        \n",
    "        #pop from the left\n",
    "        window[s[l]] -= 1\n",
    "        if s[l] in countT and window[s[l]] < countT[s[l]]:\n",
    "            have -= 1\n",
    "        \n",
    "        l += 1 #until find another letter in countT\n",
    "    \n",
    "l, r = res\n",
    "s[l:r+1] if resLen != float('infinity') else ''\n",
    "        "
   ]
  },
  {
   "cell_type": "markdown",
   "id": "8959217a",
   "metadata": {},
   "source": [
    "# Valid Anagram\n",
    "\n",
    "Given two strings s and t, return true if t is an anagram of s, and false otherwise.\n",
    "\n",
    "An Anagram is a word or phrase formed by rearranging the letters of a different word or phrase, typically using all the original letters exactly once.\n",
    "\n",
    "Input: s = \"anagram\", t = \"nagaram\"\n",
    "Output: true\n"
   ]
  },
  {
   "cell_type": "code",
   "execution_count": 31,
   "id": "4b399c63",
   "metadata": {},
   "outputs": [
    {
     "data": {
      "text/plain": [
       "True"
      ]
     },
     "execution_count": 31,
     "metadata": {},
     "output_type": "execute_result"
    }
   ],
   "source": [
    "s = \"anagram\"\n",
    "t = \"nagaram\" \n",
    "dic = {}\n",
    "\n",
    "for x in s:\n",
    "    if x not in dic:\n",
    "        dic[x] = 1\n",
    "    else:\n",
    "        dic[x] += 1\n",
    "\n",
    "output = True\n",
    "for x in t:\n",
    "    if x in dic:\n",
    "        dic[x] -= 1\n",
    "for val in dic.values():\n",
    "    if val != 0:\n",
    "        output = False\n",
    "output"
   ]
  },
  {
   "cell_type": "markdown",
   "id": "0d93040f",
   "metadata": {},
   "source": [
    "# Group Anagrams\n",
    "\n",
    "Given an array of strings strs, group the anagrams together. You can return the answer in any order.\n",
    "\n",
    "An Anagram is a word or phrase formed by rearranging the letters of a different word or phrase, typically using all the original letters exactly once.\n",
    "\n",
    "Input: strs = [\"eat\",\"tea\",\"tan\",\"ate\",\"nat\",\"bat\"]\n",
    "Output: [[\"bat\"],[\"nat\",\"tan\"],[\"ate\",\"eat\",\"tea\"]]\n"
   ]
  },
  {
   "cell_type": "code",
   "execution_count": 32,
   "id": "324198f2",
   "metadata": {},
   "outputs": [
    {
     "data": {
      "text/plain": [
       "[['eat', 'tea', 'ate'], ['tan', 'nat'], ['bat']]"
      ]
     },
     "execution_count": 32,
     "metadata": {},
     "output_type": "execute_result"
    }
   ],
   "source": [
    "strs = [\"eat\",\"tea\",\"tan\",\"ate\",\"nat\",\"bat\"]\n",
    "\n",
    "dic = {}\n",
    "\n",
    "for string in strs:\n",
    "    sortedkey = ''.join(sorted(string))\n",
    "    \n",
    "    if sortedkey not in dic:\n",
    "        dic[sortedkey] = []\n",
    "\n",
    "    dic[sortedkey].append(string)\n",
    "\n",
    "list(dic.values())"
   ]
  },
  {
   "cell_type": "markdown",
   "id": "70dadb94",
   "metadata": {},
   "source": [
    "# Valid Parentheses\n",
    "\n",
    "Given a string s containing just the characters '(', ')', '{', '}', '[' and ']', determine if the input string is valid.\n",
    "\n",
    "An input string is valid if:\n",
    "\n",
    "Open brackets must be closed by the same type of brackets.\n",
    "Open brackets must be closed in the correct order.\n",
    "Every close bracket has a corresponding open bracket of the same type.\n",
    " \n",
    "\n",
    "Example 1:\n",
    "\n",
    "Input: s = \"()\"\n",
    "Output: true\n",
    "Example 2:\n",
    "\n",
    "Input: s = \"()[]{}\"\n",
    "Output: true"
   ]
  },
  {
   "cell_type": "code",
   "execution_count": 33,
   "id": "7903ba49",
   "metadata": {},
   "outputs": [
    {
     "data": {
      "text/plain": [
       "False"
      ]
     },
     "execution_count": 33,
     "metadata": {},
     "output_type": "execute_result"
    }
   ],
   "source": [
    "s = \"()[]{}((())\"\n",
    "\n",
    "def solve(s):\n",
    "    dic = {'(':0, '[':0 , '{':0 }\n",
    "\n",
    "    for item in s:\n",
    "        if item in dic:\n",
    "            dic[item] += 1\n",
    "        elif item == ')':\n",
    "            dic['('] -= 1\n",
    "            if dic['('] < 0:\n",
    "                return False\n",
    "\n",
    "        elif item == ']':\n",
    "            dic['['] -= 1\n",
    "            if dic['['] < 0:\n",
    "                return False\n",
    "\n",
    "        elif item == '}':\n",
    "            dic['{'] -= 1\n",
    "            if dic['{'] < 0:\n",
    "                return False\n",
    "\n",
    "    for val in dic.values():\n",
    "        if val != 0:\n",
    "            return False    \n",
    "    return True\n",
    "\n",
    "solve(s)"
   ]
  },
  {
   "cell_type": "markdown",
   "id": "cb451612",
   "metadata": {},
   "source": [
    "# Palindromic Substrings\n",
    "\n",
    "Given a string s, return the number of palindromic substrings in it.\n",
    "\n",
    "A string is a palindrome when it reads the same backward as forward.\n",
    "\n",
    "A substring is a contiguous sequence of characters within the string.\n",
    "\n",
    "Input: s = \"abc\"\n",
    "Output: 3\n",
    "Explanation: Three palindromic strings: \"a\", \"b\", \"c\"."
   ]
  },
  {
   "cell_type": "code",
   "execution_count": 70,
   "id": "d9fb8c6f",
   "metadata": {},
   "outputs": [
    {
     "data": {
      "text/plain": [
       "5"
      ]
     },
     "execution_count": 70,
     "metadata": {},
     "output_type": "execute_result"
    }
   ],
   "source": [
    "s = 'abcb'\n",
    "counter = 0\n",
    "\n",
    "for i in range(len(s)):\n",
    "    for j in range(i+1,len(s)+1):\n",
    "        substring = s[i:j]\n",
    "        \n",
    "        if substring == substring[::-1]:\n",
    "            counter += 1\n",
    "counter"
   ]
  },
  {
   "cell_type": "markdown",
   "id": "435ddf00",
   "metadata": {},
   "source": [
    "# Longest Palindromic Substring\n",
    "\n",
    "Given a string s, return the longest \n",
    "palindromic substring in s.\n",
    "\n",
    "Input: s = \"babad\"\n",
    "Output: \"bab\"\n",
    "Explanation: \"aba\" is also a valid answer.\n",
    "Example 2:\n",
    "\n",
    "Input: s = \"cbbd\"\n",
    "Output: \"bb\"\n"
   ]
  },
  {
   "cell_type": "code",
   "execution_count": 73,
   "id": "60fe5371",
   "metadata": {},
   "outputs": [
    {
     "data": {
      "text/plain": [
       "['dad', 'ada']"
      ]
     },
     "execution_count": 73,
     "metadata": {},
     "output_type": "execute_result"
    }
   ],
   "source": [
    "s = \"cbbdadasdasdawrq\"\n",
    "maxlen = 0\n",
    "dic = {}\n",
    "\n",
    "for i in range(len(s)):\n",
    "    for j in range(i+1, len(s)+1):\n",
    "        substring = s[i:j]\n",
    "        \n",
    "        if substring == substring[::-1]:\n",
    "            maxlen = max(maxlen, (len(substring)))\n",
    "            \n",
    "            if len(substring) not in dic:\n",
    "                dic[len(substring)] = [substring]\n",
    "            else:\n",
    "                dic[len(substring)].append(substring)\n",
    "                \n",
    "dic[maxlen] "
   ]
  }
 ],
 "metadata": {
  "kernelspec": {
   "display_name": "Python 3",
   "language": "python",
   "name": "python3"
  },
  "language_info": {
   "codemirror_mode": {
    "name": "ipython",
    "version": 3
   },
   "file_extension": ".py",
   "mimetype": "text/x-python",
   "name": "python",
   "nbconvert_exporter": "python",
   "pygments_lexer": "ipython3",
   "version": "3.8.5"
  }
 },
 "nbformat": 4,
 "nbformat_minor": 5
}
