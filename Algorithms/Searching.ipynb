{
 "cells": [
  {
   "cell_type": "markdown",
   "metadata": {},
   "source": [
    "# Linear Search"
   ]
  },
  {
   "cell_type": "code",
   "execution_count": 5,
   "metadata": {},
   "outputs": [
    {
     "data": {
      "text/plain": [
       "3"
      ]
     },
     "execution_count": 5,
     "metadata": {},
     "output_type": "execute_result"
    }
   ],
   "source": [
    "def search(arr, n, x):\n",
    "    for i in range(0, n): # i > 0,1,...,n-1\n",
    "        if (arr[i] == x):\n",
    "            return i\n",
    "    return -1\n",
    "\n",
    "arr = [2, 3, 4, 10, 11]\n",
    "x = 10\n",
    "n = len(arr)\n",
    "\n",
    "result = search(arr,n,x)\n",
    "result"
   ]
  },
  {
   "cell_type": "markdown",
   "metadata": {},
   "source": [
    "# Binary Search"
   ]
  },
  {
   "cell_type": "code",
   "execution_count": 8,
   "metadata": {},
   "outputs": [
    {
     "data": {
      "text/plain": [
       "3"
      ]
     },
     "execution_count": 8,
     "metadata": {},
     "output_type": "execute_result"
    }
   ],
   "source": [
    "# search a sorted array, sort them first\n",
    "\n",
    "def binarySearch(arr,left,right,x):\n",
    "    if right >= 1:\n",
    "        mid = 1 + (right-1)//2\n",
    "        \n",
    "        if arr[mid] == x:\n",
    "            return mid\n",
    "        \n",
    "        #if element is smaller than mid, than it can only be in left subarray\n",
    "        elif arr[mid] > x:\n",
    "            return binarySearch(arr, left, mid - 1, x)\n",
    "        \n",
    "        #else on right subarray\n",
    "        else:\n",
    "            return binarySearch(arr, mid+1, right, x)\n",
    "        \n",
    "    else:\n",
    "        return -1\n",
    "    \n",
    "arr = [2,3,4,10,40,80]\n",
    "x = 10\n",
    "\n",
    "result = binarySearch(arr, 0, len(arr)-1, x ) \n",
    "result"
   ]
  }
 ],
 "metadata": {
  "kernelspec": {
   "display_name": "Python 3",
   "language": "python",
   "name": "python3"
  },
  "language_info": {
   "codemirror_mode": {
    "name": "ipython",
    "version": 3
   },
   "file_extension": ".py",
   "mimetype": "text/x-python",
   "name": "python",
   "nbconvert_exporter": "python",
   "pygments_lexer": "ipython3",
   "version": "3.8.5"
  }
 },
 "nbformat": 4,
 "nbformat_minor": 4
}
