{
 "cells": [
  {
   "cell_type": "markdown",
   "metadata": {},
   "source": [
    "# Lists"
   ]
  },
  {
   "cell_type": "code",
   "execution_count": 12,
   "metadata": {},
   "outputs": [
    {
     "name": "stdout",
     "output_type": "stream",
     "text": [
      "\n",
      "List containing multiple values: \n",
      "['a', 'b', 'c']\n",
      "\n",
      "Multi-Dimensional List: \n",
      "[['a', 'b'], ['c']]\n",
      "Accessing element from the list\n",
      "a\n",
      "c\n",
      "Accessing element using negative indexing\n",
      "c\n"
     ]
    }
   ],
   "source": [
    "# Creating a List with the use of multiple values\n",
    "List = [\"a\", \"b\", \"c\"]\n",
    "print(\"\\nList containing multiple values: \")\n",
    "print(List)\n",
    "  \n",
    "# Creating a Multi-Dimensional List(By Nesting a list inside a List)\n",
    "List2 = [['a', 'b'], ['c']]\n",
    "print(\"\\nMulti-Dimensional List: \")\n",
    "print(List2)\n",
    "  \n",
    "# accessing a element from the list using index number\n",
    "print(\"Accessing element from the list\")\n",
    "print(List[0])\n",
    "print(List[2])\n",
    "  \n",
    "# accessing a element using negative indexing\n",
    "print(\"Accessing element using negative indexing\")\n",
    "      \n",
    "# print the last element of list\n",
    "print(List[-1])"
   ]
  },
  {
   "cell_type": "markdown",
   "metadata": {},
   "source": [
    "# Tuple \n",
    "   Tuples are immutable in nature i.e. once created it cannot be modified."
   ]
  },
  {
   "cell_type": "code",
   "execution_count": 13,
   "metadata": {},
   "outputs": [
    {
     "name": "stdout",
     "output_type": "stream",
     "text": [
      "\n",
      "Tuple with the use of String: \n",
      "('a', 'b')\n",
      "\n",
      "Tuple using List: \n",
      "First element of tuple\n",
      "1\n",
      "\n",
      "Last element of tuple\n",
      "6\n"
     ]
    }
   ],
   "source": [
    "# Creating a Tuple with the use of Strings\n",
    "Tuple = ('a', 'b')\n",
    "print(\"\\nTuple with the use of String: \")\n",
    "print(Tuple)\n",
    "      \n",
    "# Creating a Tuple with the use of list\n",
    "list1 = [1, 2, 4, 5, 6]\n",
    "print(\"\\nTuple using List: \")\n",
    "Tuple = tuple(list1)\n",
    "  \n",
    "# Accessing element using indexing\n",
    "print(\"First element of tuple\")\n",
    "print(Tuple[0])\n",
    "  \n",
    "# Accessing element from last negative indexing\n",
    "print(\"\\nLast element of tuple\")\n",
    "print(Tuple[-1])"
   ]
  },
  {
   "cell_type": "markdown",
   "metadata": {},
   "source": [
    "# Set\n",
    "mutable collection of data that does not allow any duplication"
   ]
  },
  {
   "cell_type": "code",
   "execution_count": 14,
   "metadata": {},
   "outputs": [
    {
     "name": "stdout",
     "output_type": "stream",
     "text": [
      "\n",
      "Set with the use of Mixed Values\n",
      "{'c', 1, 2, 'b', 'a', 4, 6}\n",
      "\n",
      "Elements of set: \n",
      "c 1 2 b a 4 6 \n",
      "True\n"
     ]
    }
   ],
   "source": [
    "# Creating a Set with a mixed type of values (Having numbers and strings)\n",
    "Set = set([1, 2, 'a', 4, 'b', 6, 'c'])\n",
    "print(\"\\nSet with the use of Mixed Values\")\n",
    "print(Set)\n",
    "  \n",
    "# Accessing element using for loop\n",
    "print(\"\\nElements of set: \")\n",
    "for i in Set:\n",
    "    print(i, end =\" \")\n",
    "print()\n",
    "  \n",
    "# Checking the element using in keyword\n",
    "print(\"c\" in Set)"
   ]
  },
  {
   "cell_type": "markdown",
   "metadata": {},
   "source": [
    "# String"
   ]
  },
  {
   "cell_type": "code",
   "execution_count": 16,
   "metadata": {},
   "outputs": [
    {
     "name": "stdout",
     "output_type": "stream",
     "text": [
      "Creating String: \n",
      "It can be taught through tough thorough thought though\n",
      "\n",
      "First character of String is: \n",
      "I\n",
      "\n",
      "Last character of String is: \n",
      "h\n"
     ]
    }
   ],
   "source": [
    "String = \"It can be taught through tough thorough thought though\"\n",
    "print(\"Creating String: \")\n",
    "print(String)\n",
    "      \n",
    "# Printing First character\n",
    "print(\"\\nFirst character of String is: \")\n",
    "print(String[0])\n",
    "      \n",
    "# Printing Last character\n",
    "print(\"\\nLast character of String is: \")\n",
    "print(String[-1])"
   ]
  },
  {
   "cell_type": "markdown",
   "metadata": {},
   "source": [
    "# Dictionary"
   ]
  },
  {
   "cell_type": "code",
   "execution_count": 17,
   "metadata": {},
   "outputs": [
    {
     "name": "stdout",
     "output_type": "stream",
     "text": [
      "Creating Dictionary: \n",
      "{'Name': 'abc', 1: [1, 2, 3, 4]}\n",
      "Accessing a element using key:\n",
      "abc\n",
      "Accessing a element using get:\n",
      "[1, 2, 3, 4]\n",
      "{1: 1, 2: 4, 3: 9, 4: 16, 5: 25}\n"
     ]
    }
   ],
   "source": [
    "# Creating a Dictionary\n",
    "Dict = {'Name': 'abc', 1: [1, 2, 3, 4]}\n",
    "print(\"Creating Dictionary: \")\n",
    "print(Dict)\n",
    "  \n",
    "# accessing a element using key\n",
    "print(\"Accessing a element using key:\")\n",
    "print(Dict['Name'])\n",
    "  \n",
    "# accessing a element using get()\n",
    "# method\n",
    "print(\"Accessing a element using get:\")\n",
    "print(Dict.get(1))\n",
    "  \n",
    "# creation using Dictionary comprehension\n",
    "myDict = {x: x**2 for x in [1,2,3,4,5]}\n",
    "print(myDict)"
   ]
  },
  {
   "cell_type": "markdown",
   "metadata": {},
   "source": [
    "# Matrix"
   ]
  },
  {
   "cell_type": "code",
   "execution_count": 18,
   "metadata": {},
   "outputs": [
    {
     "name": "stdout",
     "output_type": "stream",
     "text": [
      "[[ 1  2  3  4]\n",
      " [ 4 55  1  2]\n",
      " [ 8  3 20 19]\n",
      " [11  2 22 21]]\n",
      "\n",
      "Accessing Elements\n",
      "[ 4 55  1  2]\n",
      "8\n",
      "\n",
      "Adding Element\n",
      "[[ 1  2  3  4]\n",
      " [ 4 55  1  2]\n",
      " [ 8  3 20 19]\n",
      " [11  2 22 21]\n",
      " [ 1 15 13 11]]\n",
      "\n",
      "Deleting Element\n",
      "[[ 1  2  3  4]\n",
      " [ 8  3 20 19]\n",
      " [11  2 22 21]\n",
      " [ 1 15 13 11]]\n"
     ]
    }
   ],
   "source": [
    "import numpy as np\n",
    "a = np.array([[1,2,3,4],[4,55,1,2],\n",
    "              [8,3,20,19],[11,2,22,21]])\n",
    "m = np.reshape(a,(4, 4))\n",
    "print(m)\n",
    "  \n",
    "# Accessing element\n",
    "print(\"\\nAccessing Elements\")\n",
    "print(a[1])\n",
    "print(a[2][0])\n",
    "  \n",
    "# Adding Element\n",
    "m = np.append(m,[[1, 15,13,11]],0)\n",
    "print(\"\\nAdding Element\")\n",
    "print(m)\n",
    "  \n",
    "# Deleting Element\n",
    "m = np.delete(m,[1],0)\n",
    "print(\"\\nDeleting Element\")\n",
    "print(m)"
   ]
  }
 ],
 "metadata": {
  "kernelspec": {
   "display_name": "Python 3",
   "language": "python",
   "name": "python3"
  },
  "language_info": {
   "codemirror_mode": {
    "name": "ipython",
    "version": 3
   },
   "file_extension": ".py",
   "mimetype": "text/x-python",
   "name": "python",
   "nbconvert_exporter": "python",
   "pygments_lexer": "ipython3",
   "version": "3.8.5"
  }
 },
 "nbformat": 4,
 "nbformat_minor": 4
}
